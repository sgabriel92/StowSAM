{
 "cells": [
  {
   "cell_type": "code",
   "execution_count": 2,
   "metadata": {},
   "outputs": [],
   "source": [
    "import h5py\n",
    "import numpy as np\n",
    "import matplotlib.pyplot as plt"
   ]
  },
  {
   "cell_type": "code",
   "execution_count": 4,
   "metadata": {},
   "outputs": [
    {
     "name": "stdout",
     "output_type": "stream",
     "text": [
      "data\n",
      "depth\n",
      "mask\n",
      "metadata\n",
      "['data', 'depth', 'mask', 'metadata']\n",
      "(1000, 2, 256, 256, 4)\n"
     ]
    },
    {
     "ename": "KeyboardInterrupt",
     "evalue": "",
     "output_type": "error",
     "traceback": [
      "\u001b[0;31m---------------------------------------------------------------------------\u001b[0m",
      "\u001b[0;31mKeyboardInterrupt\u001b[0m                         Traceback (most recent call last)",
      "Cell \u001b[0;32mIn[4], line 19\u001b[0m\n\u001b[1;32m     14\u001b[0m \u001b[38;5;28mprint\u001b[39m(train_set_x\u001b[38;5;241m.\u001b[39mshape)\n\u001b[1;32m     15\u001b[0m \u001b[38;5;66;03m# if len(train_set_x.shape) == 3:\u001b[39;00m\n\u001b[1;32m     16\u001b[0m \u001b[38;5;66;03m#     gt_data = train_set_x[:, :, 0]\u001b[39;00m\n\u001b[1;32m     17\u001b[0m \u001b[38;5;66;03m# assert len(train_set_x.shape) == 2, \"ground truth should be 2D\"\u001b[39;00m\n\u001b[0;32m---> 19\u001b[0m gt_data_unique \u001b[38;5;241m=\u001b[39m \u001b[43mnp\u001b[49m\u001b[38;5;241;43m.\u001b[39;49m\u001b[43munique\u001b[49m\u001b[43m(\u001b[49m\u001b[43mtrain_set_x\u001b[49m\u001b[43m)\u001b[49m[\u001b[38;5;241m0\u001b[39m:\u001b[38;5;241m-\u001b[39m\u001b[38;5;241m2\u001b[39m]\n\u001b[1;32m     20\u001b[0m \u001b[38;5;66;03m#print(train_set_x[0])\u001b[39;00m\n\u001b[1;32m     21\u001b[0m \u001b[38;5;66;03m#print(gt_data_unique)\u001b[39;00m\n\u001b[1;32m     22\u001b[0m \u001b[38;5;66;03m# if train_set_x.shape[-1] > 1 and len(train_set_x.shape) == 3:  # Ensure there are at least two channels\u001b[39;00m\n\u001b[0;32m   (...)\u001b[0m\n\u001b[1;32m     28\u001b[0m \n\u001b[1;32m     29\u001b[0m \u001b[38;5;66;03m# Display the first four images side by side\u001b[39;00m\n\u001b[1;32m     30\u001b[0m fig, axs \u001b[38;5;241m=\u001b[39m plt\u001b[38;5;241m.\u001b[39msubplots(\u001b[38;5;241m1\u001b[39m, \u001b[38;5;241m4\u001b[39m, figsize\u001b[38;5;241m=\u001b[39m(\u001b[38;5;241m20\u001b[39m, \u001b[38;5;241m5\u001b[39m))  \u001b[38;5;66;03m# Adjust the size as needed\u001b[39;00m\n",
      "File \u001b[0;32m~/anaconda3/envs/RobotSAM/lib/python3.10/site-packages/numpy/lib/arraysetops.py:274\u001b[0m, in \u001b[0;36munique\u001b[0;34m(ar, return_index, return_inverse, return_counts, axis, equal_nan)\u001b[0m\n\u001b[1;32m    272\u001b[0m ar \u001b[38;5;241m=\u001b[39m np\u001b[38;5;241m.\u001b[39masanyarray(ar)\n\u001b[1;32m    273\u001b[0m \u001b[38;5;28;01mif\u001b[39;00m axis \u001b[38;5;129;01mis\u001b[39;00m \u001b[38;5;28;01mNone\u001b[39;00m:\n\u001b[0;32m--> 274\u001b[0m     ret \u001b[38;5;241m=\u001b[39m \u001b[43m_unique1d\u001b[49m\u001b[43m(\u001b[49m\u001b[43mar\u001b[49m\u001b[43m,\u001b[49m\u001b[43m \u001b[49m\u001b[43mreturn_index\u001b[49m\u001b[43m,\u001b[49m\u001b[43m \u001b[49m\u001b[43mreturn_inverse\u001b[49m\u001b[43m,\u001b[49m\u001b[43m \u001b[49m\u001b[43mreturn_counts\u001b[49m\u001b[43m,\u001b[49m\u001b[43m \u001b[49m\n\u001b[1;32m    275\u001b[0m \u001b[43m                    \u001b[49m\u001b[43mequal_nan\u001b[49m\u001b[38;5;241;43m=\u001b[39;49m\u001b[43mequal_nan\u001b[49m\u001b[43m)\u001b[49m\n\u001b[1;32m    276\u001b[0m     \u001b[38;5;28;01mreturn\u001b[39;00m _unpack_tuple(ret)\n\u001b[1;32m    278\u001b[0m \u001b[38;5;66;03m# axis was specified and not None\u001b[39;00m\n",
      "File \u001b[0;32m~/anaconda3/envs/RobotSAM/lib/python3.10/site-packages/numpy/lib/arraysetops.py:336\u001b[0m, in \u001b[0;36m_unique1d\u001b[0;34m(ar, return_index, return_inverse, return_counts, equal_nan)\u001b[0m\n\u001b[1;32m    334\u001b[0m     aux \u001b[38;5;241m=\u001b[39m ar[perm]\n\u001b[1;32m    335\u001b[0m \u001b[38;5;28;01melse\u001b[39;00m:\n\u001b[0;32m--> 336\u001b[0m     \u001b[43mar\u001b[49m\u001b[38;5;241;43m.\u001b[39;49m\u001b[43msort\u001b[49m\u001b[43m(\u001b[49m\u001b[43m)\u001b[49m\n\u001b[1;32m    337\u001b[0m     aux \u001b[38;5;241m=\u001b[39m ar\n\u001b[1;32m    338\u001b[0m mask \u001b[38;5;241m=\u001b[39m np\u001b[38;5;241m.\u001b[39mempty(aux\u001b[38;5;241m.\u001b[39mshape, dtype\u001b[38;5;241m=\u001b[39mnp\u001b[38;5;241m.\u001b[39mbool_)\n",
      "\u001b[0;31mKeyboardInterrupt\u001b[0m: "
     ]
    }
   ],
   "source": [
    "train_dataset = h5py.File('dataset/bin_syn/train_shard_000000.h5', \"r\")\n",
    "train_dataset = h5py.File('dataset/bin_syn/test_shard_000000.h5', \"r\")\n",
    "# train_dataset = h5py.File('dataset/StowSam/input/train/stow_0.h5', \"r\")\n",
    "\n",
    "train_dataset.keys()\n",
    "# Load the training data\n",
    "for key in train_dataset.keys(): \n",
    "    print(key) \n",
    "\n",
    "child_keys = [k for k in train_dataset.keys()]\n",
    "print(child_keys)\n",
    "\n",
    "train_set_x = train_dataset['data']\n",
    "print(train_set_x.shape)\n",
    "# if len(train_set_x.shape) == 3:\n",
    "#     gt_data = train_set_x[:, :, 0]\n",
    "# assert len(train_set_x.shape) == 2, \"ground truth should be 2D\"\n",
    "\n",
    "gt_data_unique = np.unique(train_set_x)[0:-2]\n",
    "#print(train_set_x[0])\n",
    "#print(gt_data_unique)\n",
    "# if train_set_x.shape[-1] > 1 and len(train_set_x.shape) == 3:  # Ensure there are at least two channels\n",
    "#     is_same = np.array_equal(train_set_x[:, :, 0], train_set_x[:, :, 1])\n",
    "#     print(f\"Channel 1 and 2 are the same: {is_same}\")\n",
    "# plt.imshow(train_set_x)\n",
    "# # plt.imshow(train_set_x[0][:, :,:])\n",
    "# plt.show()\n",
    "\n",
    "# Display the first four images side by side\n",
    "fig, axs = plt.subplots(1, 4, figsize=(20, 5))  # Adjust the size as needed\n",
    "j =100\n",
    "for i in range(4):\n",
    " \n",
    "    train_set_x = train_dataset['imgs'][j]\n",
    "    print(train_set_x.shape)\n",
    "    axs[i].imshow(train_set_x)\n",
    "    axs[i].set_title(f'Image {j}')\n",
    "    j+=1\n",
    "\n",
    "plt.show()"
   ]
  },
  {
   "cell_type": "code",
   "execution_count": 1,
   "metadata": {},
   "outputs": [
    {
     "ename": "NameError",
     "evalue": "name 'np' is not defined",
     "output_type": "error",
     "traceback": [
      "\u001b[0;31m---------------------------------------------------------------------------\u001b[0m",
      "\u001b[0;31mNameError\u001b[0m                                 Traceback (most recent call last)",
      "Cell \u001b[0;32mIn[1], line 3\u001b[0m\n\u001b[1;32m      1\u001b[0m \u001b[38;5;66;03m#Investigate the .npz file\u001b[39;00m\n\u001b[1;32m      2\u001b[0m \u001b[38;5;66;03m# Load the .npz file\u001b[39;00m\n\u001b[0;32m----> 3\u001b[0m data \u001b[38;5;241m=\u001b[39m \u001b[43mnp\u001b[49m\u001b[38;5;241m.\u001b[39mload(\u001b[38;5;124m'\u001b[39m\u001b[38;5;124mdataset/StowSam/input/train/npz/stow_00.npz\u001b[39m\u001b[38;5;124m'\u001b[39m)\n\u001b[1;32m      4\u001b[0m \u001b[38;5;66;03m# data = np.load('dataset/StowSam/input/train/stow_chunk00.npz')\u001b[39;00m\n\u001b[1;32m      5\u001b[0m \n\u001b[1;32m      6\u001b[0m \u001b[38;5;66;03m# Print the keys in the file\u001b[39;00m\n\u001b[1;32m      7\u001b[0m \u001b[38;5;28mprint\u001b[39m(data\u001b[38;5;241m.\u001b[39mfiles)\n",
      "\u001b[0;31mNameError\u001b[0m: name 'np' is not defined"
     ]
    }
   ],
   "source": [
    "#Investigate the .npz file\n",
    "# Load the .npz file\n",
    "data = np.load('dataset/StowSam/input/train/npz/stow_00.npz')\n",
    "# data = np.load('dataset/StowSam/input/train/stow_chunk00.npz')\n",
    "\n",
    "# Print the keys in the file\n",
    "print(data.files)\n",
    "\n",
    "# Access a specific array\n",
    "image = data['imgs']\n",
    "\n",
    "# Print the shape and dtype of the array\n",
    "print(image.shape)\n",
    "print(image.dtype)\n",
    "# image = array1[89]\n",
    "\n",
    "# # Print the unique values in the array\n",
    "# print(np.unique(array1))\n",
    "\n",
    "# # If the array is an image, you can display it\n",
    "import matplotlib.pyplot as plt\n",
    "plt.imshow(image)\n",
    "plt.show()"
   ]
  }
 ],
 "metadata": {
  "kernelspec": {
   "display_name": "RobotSAM",
   "language": "python",
   "name": "python3"
  },
  "language_info": {
   "codemirror_mode": {
    "name": "ipython",
    "version": 3
   },
   "file_extension": ".py",
   "mimetype": "text/x-python",
   "name": "python",
   "nbconvert_exporter": "python",
   "pygments_lexer": "ipython3",
   "version": "3.10.13"
  }
 },
 "nbformat": 4,
 "nbformat_minor": 2
}
