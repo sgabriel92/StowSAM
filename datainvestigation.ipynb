{
 "cells": [
  {
   "cell_type": "code",
   "execution_count": 2,
   "metadata": {},
   "outputs": [],
   "source": [
    "import h5py\n",
    "import numpy as np\n",
    "import matplotlib.pyplot as plt"
   ]
  },
  {
   "cell_type": "code",
   "execution_count": 5,
   "metadata": {},
   "outputs": [
    {
     "name": "stdout",
     "output_type": "stream",
     "text": [
      "gts\n",
      "imgs\n",
      "['gts', 'imgs']\n",
      "(100, 1024, 1024)\n"
     ]
    },
    {
     "ename": "IndexError",
     "evalue": "Index (100) out of range for (0-99)",
     "output_type": "error",
     "traceback": [
      "\u001b[0;31m---------------------------------------------------------------------------\u001b[0m",
      "\u001b[0;31mIndexError\u001b[0m                                Traceback (most recent call last)",
      "Cell \u001b[0;32mIn[5], line 34\u001b[0m\n\u001b[1;32m     31\u001b[0m j \u001b[38;5;241m=\u001b[39m\u001b[38;5;241m100\u001b[39m\n\u001b[1;32m     32\u001b[0m \u001b[38;5;28;01mfor\u001b[39;00m i \u001b[38;5;129;01min\u001b[39;00m \u001b[38;5;28mrange\u001b[39m(\u001b[38;5;241m4\u001b[39m):\n\u001b[0;32m---> 34\u001b[0m     train_set_x \u001b[38;5;241m=\u001b[39m \u001b[43mtrain_dataset\u001b[49m\u001b[43m[\u001b[49m\u001b[38;5;124;43m'\u001b[39;49m\u001b[38;5;124;43mimgs\u001b[39;49m\u001b[38;5;124;43m'\u001b[39;49m\u001b[43m]\u001b[49m\u001b[43m[\u001b[49m\u001b[43mj\u001b[49m\u001b[43m]\u001b[49m\n\u001b[1;32m     35\u001b[0m     \u001b[38;5;28mprint\u001b[39m(train_set_x\u001b[38;5;241m.\u001b[39mshape)\n\u001b[1;32m     36\u001b[0m     axs[i]\u001b[38;5;241m.\u001b[39mimshow(train_set_x)\n",
      "File \u001b[0;32mh5py/_objects.pyx:54\u001b[0m, in \u001b[0;36mh5py._objects.with_phil.wrapper\u001b[0;34m()\u001b[0m\n",
      "File \u001b[0;32mh5py/_objects.pyx:55\u001b[0m, in \u001b[0;36mh5py._objects.with_phil.wrapper\u001b[0;34m()\u001b[0m\n",
      "File \u001b[0;32m~/anaconda3/envs/RobotSAM/lib/python3.10/site-packages/h5py/_hl/dataset.py:758\u001b[0m, in \u001b[0;36mDataset.__getitem__\u001b[0;34m(self, args, new_dtype)\u001b[0m\n\u001b[1;32m    756\u001b[0m \u001b[38;5;28;01mif\u001b[39;00m \u001b[38;5;28mself\u001b[39m\u001b[38;5;241m.\u001b[39m_fast_read_ok \u001b[38;5;129;01mand\u001b[39;00m (new_dtype \u001b[38;5;129;01mis\u001b[39;00m \u001b[38;5;28;01mNone\u001b[39;00m):\n\u001b[1;32m    757\u001b[0m     \u001b[38;5;28;01mtry\u001b[39;00m:\n\u001b[0;32m--> 758\u001b[0m         \u001b[38;5;28;01mreturn\u001b[39;00m \u001b[38;5;28;43mself\u001b[39;49m\u001b[38;5;241;43m.\u001b[39;49m\u001b[43m_fast_reader\u001b[49m\u001b[38;5;241;43m.\u001b[39;49m\u001b[43mread\u001b[49m\u001b[43m(\u001b[49m\u001b[43margs\u001b[49m\u001b[43m)\u001b[49m\n\u001b[1;32m    759\u001b[0m     \u001b[38;5;28;01mexcept\u001b[39;00m \u001b[38;5;167;01mTypeError\u001b[39;00m:\n\u001b[1;32m    760\u001b[0m         \u001b[38;5;28;01mpass\u001b[39;00m  \u001b[38;5;66;03m# Fall back to Python read pathway below\u001b[39;00m\n",
      "File \u001b[0;32mh5py/_selector.pyx:361\u001b[0m, in \u001b[0;36mh5py._selector.Reader.read\u001b[0;34m()\u001b[0m\n",
      "File \u001b[0;32mh5py/_selector.pyx:151\u001b[0m, in \u001b[0;36mh5py._selector.Selector.apply_args\u001b[0;34m()\u001b[0m\n",
      "\u001b[0;31mIndexError\u001b[0m: Index (100) out of range for (0-99)"
     ]
    },
    {
     "data": {
      "image/png": "[encoded data removed]",
      "text/plain": [
       "<Figure size 2000x500 with 4 Axes>"
      ]
     },
     "metadata": {},
     "output_type": "display_data"
    }
   ],
   "source": [
    "train_dataset = h5py.File('dataset/StowSam/input/train/stow_1.h5', \"r\")\n",
    "#train_dataset = h5py.File('dataset/bin_syn/test_shard_000000.h5', \"r\")\n",
    "# train_dataset = h5py.File('dataset/StowSam/input/train/stow_0.h5', \"r\")\n",
    "\n",
    "train_dataset.keys()\n",
    "# Load the training data\n",
    "for key in train_dataset.keys(): \n",
    "    print(key) \n",
    "\n",
    "child_keys = [k for k in train_dataset.keys()]\n",
    "print(child_keys)\n",
    "\n",
    "train_set_x = train_dataset['gts']\n",
    "print(train_set_x.shape)\n",
    "# if len(train_set_x.shape) == 3:\n",
    "#     gt_data = train_set_x[:, :, 0]\n",
    "# assert len(train_set_x.shape) == 2, \"ground truth should be 2D\"\n",
    "\n",
    "gt_data_unique = np.unique(train_set_x)[0:-2]\n",
    "#print(train_set_x[0])\n",
    "#print(gt_data_unique)\n",
    "# if train_set_x.shape[-1] > 1 and len(train_set_x.shape) == 3:  # Ensure there are at least two channels\n",
    "#     is_same = np.array_equal(train_set_x[:, :, 0], train_set_x[:, :, 1])\n",
    "#     print(f\"Channel 1 and 2 are the same: {is_same}\")\n",
    "# plt.imshow(train_set_x)\n",
    "# # plt.imshow(train_set_x[0][:, :,:])\n",
    "# plt.show()\n",
    "\n",
    "# Display the first four images side by side\n",
    "fig, axs = plt.subplots(1, 4, figsize=(20, 5))  # Adjust the size as needed\n",
    "j =100\n",
    "for i in range(4):\n",
    " \n",
    "    train_set_x = train_dataset['imgs'][j]\n",
    "    print(train_set_x.shape)\n",
    "    axs[i].imshow(train_set_x)\n",
    "    axs[i].set_title(f'Image {j}')\n",
    "    j+=1\n",
    "\n",
    "plt.show()"
   ]
  },
  {
   "cell_type": "code",
   "execution_count": 1,
   "metadata": {},
   "outputs": [
    {
     "ename": "NameError",
     "evalue": "name 'np' is not defined",
     "output_type": "error",
     "traceback": [
      "\u001b[0;31m---------------------------------------------------------------------------\u001b[0m",
      "\u001b[0;31mNameError\u001b[0m                                 Traceback (most recent call last)",
      "Cell \u001b[0;32mIn[1], line 3\u001b[0m\n\u001b[1;32m      1\u001b[0m \u001b[38;5;66;03m#Investigate the .npz file\u001b[39;00m\n\u001b[1;32m      2\u001b[0m \u001b[38;5;66;03m# Load the .npz file\u001b[39;00m\n\u001b[0;32m----> 3\u001b[0m data \u001b[38;5;241m=\u001b[39m \u001b[43mnp\u001b[49m\u001b[38;5;241m.\u001b[39mload(\u001b[38;5;124m'\u001b[39m\u001b[38;5;124mdataset/StowSam/input/train/npz/stow_00.npz\u001b[39m\u001b[38;5;124m'\u001b[39m)\n\u001b[1;32m      4\u001b[0m \u001b[38;5;66;03m# data = np.load('dataset/StowSam/input/train/stow_chunk00.npz')\u001b[39;00m\n\u001b[1;32m      5\u001b[0m \n\u001b[1;32m      6\u001b[0m \u001b[38;5;66;03m# Print the keys in the file\u001b[39;00m\n\u001b[1;32m      7\u001b[0m \u001b[38;5;28mprint\u001b[39m(data\u001b[38;5;241m.\u001b[39mfiles)\n",
      "\u001b[0;31mNameError\u001b[0m: name 'np' is not defined"
     ]
    }
   ],
   "source": [
    "#Investigate the .npz file\n",
    "# Load the .npz file\n",
    "data = np.load('dataset/StowSam/input/train/npz/stow_00.npz')\n",
    "# data = np.load('dataset/StowSam/input/train/stow_chunk00.npz')\n",
    "\n",
    "# Print the keys in the file\n",
    "print(data.files)\n",
    "\n",
    "# Access a specific array\n",
    "image = data['imgs']\n",
    "\n",
    "# Print the shape and dtype of the array\n",
    "print(image.shape)\n",
    "print(image.dtype)\n",
    "# image = array1[89]\n",
    "\n",
    "# # Print the unique values in the array\n",
    "# print(np.unique(array1))\n",
    "\n",
    "# # If the array is an image, you can display it\n",
    "import matplotlib.pyplot as plt\n",
    "plt.imshow(image)\n",
    "plt.show()"
   ]
  }
 ],
 "metadata": {
  "kernelspec": {
   "display_name": "RobotSAM",
   "language": "python",
   "name": "python3"
  },
  "language_info": {
   "codemirror_mode": {
    "name": "ipython",
    "version": 3
   },
   "file_extension": ".py",
   "mimetype": "text/x-python",
   "name": "python",
   "nbconvert_exporter": "python",
   "pygments_lexer": "ipython3",
   "version": "3.10.13"
  }
 },
 "nbformat": 4,
 "nbformat_minor": 2
}
